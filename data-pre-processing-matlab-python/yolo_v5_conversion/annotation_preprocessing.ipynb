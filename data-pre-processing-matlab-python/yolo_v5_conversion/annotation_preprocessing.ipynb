{
 "cells": [
  {
   "cell_type": "code",
   "execution_count": 1,
   "metadata": {},
   "outputs": [],
   "source": [
    "import pandas as pd\n",
    "import matplotlib.pyplot as plt\n",
    "from matplotlib import patches\n",
    "import pandas as pd\n",
    "import os \n",
    "import shutil \n",
    "import numpy as np \n",
    "import random\n",
    "from PIL import Image, ImageDraw\n",
    "from sklearn.model_selection import train_test_split\n"
   ]
  },
  {
   "cell_type": "markdown",
   "metadata": {},
   "source": [
    "Load matlab parquet"
   ]
  },
  {
   "cell_type": "code",
   "execution_count": null,
   "metadata": {},
   "outputs": [],
   "source": [
    "\n",
    "# load parquet from matlab\n",
    "df = pd.read_parquet('EyeLabelling.parquet')\n",
    "df = df.rename(columns={'Var1':'Image', 'Var2':'Box_Type', \n",
    "                            'Var3':'Xmin', 'Var4':'Ymin', 'Var5':'Xmax', \n",
    "                            'Var6':'Ymax'})\n",
    "\n",
    "# set types as int\n",
    "df['Xmin'] = df['Xmin'].astype(int)\n",
    "df['Xmax'] = df['Xmax'].astype(int)\n",
    "df['Ymin'] = df['Ymin'].astype(int)\n",
    "df['Ymax'] = df['Ymax'].astype(int)\n",
    "print(df)\n"
   ]
  },
  {
   "cell_type": "markdown",
   "metadata": {},
   "source": [
    "Pull matlab from annotate file and put into it's own dict for that image"
   ]
  },
  {
   "cell_type": "code",
   "execution_count": null,
   "metadata": {},
   "outputs": [],
   "source": [
    "def convert_matlab_to_yolov5(image_name):\n",
    "    #initialise the dict\n",
    "    info_dict = {}\n",
    "    info_dict['bboxes'] = []\n",
    "    df2 = pd.DataFrame(columns=df.columns)\n",
    "\n",
    "    cond = df.Image == image_name\n",
    "    rows = df.loc[cond, :]\n",
    "    df2 = df2.append(rows, ignore_index=True)\n",
    "    info_dict['filename'] = image_name\n",
    "    target_image = \"./images/\" + image_name\n",
    "    \n",
    "    im = Image.open(target_image)\n",
    "    size_w_dim = im.size + (3,)\n",
    "    info_dict['image_size'] = size_w_dim\n",
    "    # rename rows\n",
    "    for index, row in df2.iterrows():\n",
    "        bbox = {}\n",
    "        bbox[\"class\"] = row['Box_Type']\n",
    "        bbox['xmin'] = row['Xmin']\n",
    "        bbox['ymin'] = row['Ymin']\n",
    "        bbox['xmax'] = row['Xmax']\n",
    "        bbox['ymax'] = row['Ymax']\n",
    "        info_dict['bboxes'].append(bbox)\n",
    "        \n",
    "    return info_dict\n"
   ]
  },
  {
   "cell_type": "markdown",
   "metadata": {},
   "source": [
    "Conver to required yolo format"
   ]
  },
  {
   "cell_type": "code",
   "execution_count": null,
   "metadata": {},
   "outputs": [],
   "source": [
    "# Dictionary that maps class names to IDs\n",
    "class_name_to_id_mapping = {\"Haemorrhage\": 0,\n",
    "                           \"Exudate\": 1}\n",
    "\n",
    "def convert_to_yolov(info_dict):\n",
    "    print_buffer = []\n",
    "    \n",
    "    # For each bounding box\n",
    "    for b in info_dict[\"bboxes\"]:\n",
    "        try:\n",
    "            class_id = class_name_to_id_mapping[b[\"class\"]]\n",
    "        except KeyError:\n",
    "            print(\"Invalid Class. Must be one from \", class_name_to_id_mapping.keys())\n",
    "        \n",
    "        # Transform the bbox co-ordinates as per the format required by YOLO v5\n",
    "        b_center_x = (b[\"xmin\"] + b[\"xmax\"]) / 2 \n",
    "        b_center_y = (b[\"ymin\"] + b[\"ymax\"]) / 2\n",
    "        b_width    = (b[\"xmax\"] - b[\"xmin\"])\n",
    "        b_height   = (b[\"ymax\"] - b[\"ymin\"])\n",
    "        \n",
    "        # Normalise the co-ordinates by the dimensions of the image\n",
    "        image_w, image_h, image_c = info_dict[\"image_size\"]  \n",
    "        b_center_x /= image_w \n",
    "        b_center_y /= image_h \n",
    "        b_width    /= image_w \n",
    "        b_height   /= image_h \n",
    "        \n",
    "        #Write the bbox details to the file \n",
    "        print_buffer.append(\"{} {:.3f} {:.3f} {:.3f} {:.3f}\".format(class_id, b_center_x, b_center_y, b_width, b_height))\n",
    "\n",
    "        print(\"\\n\".join(print_buffer), file= open('./annotations/' + info_dict[\"filename\"].replace(\"jpg\", \"txt\"),'w'))\n"
   ]
  },
  {
   "cell_type": "markdown",
   "metadata": {},
   "source": [
    "Create markdown file for each image"
   ]
  },
  {
   "cell_type": "code",
   "execution_count": null,
   "metadata": {},
   "outputs": [],
   "source": [
    "#create annotation files for each image\n",
    "unique_images = df.Image.unique()\n",
    "\n",
    "for name in unique_images:\n",
    "    info_dict = convert_matlab_to_yolov5(name)\n",
    "    convert_to_yolov(info_dict)\n",
    "annotations = [os.path.join('annotations', x) for x in os.listdir('annotations') if x[-3:] == \"txt\"]"
   ]
  },
  {
   "cell_type": "markdown",
   "metadata": {},
   "source": [
    "Plot bounding box on image"
   ]
  },
  {
   "cell_type": "code",
   "execution_count": null,
   "metadata": {},
   "outputs": [],
   "source": [
    "random.seed(1)\n",
    "\n",
    "class_id_to_name_mapping = dict(zip(class_name_to_id_mapping.values(), class_name_to_id_mapping.keys()))\n",
    "\n",
    "def plot_bounding_box(image, annotation_list):\n",
    "    annotations = np.array(annotation_list)\n",
    "    print(annotations)\n",
    "    w, h = image.size\n",
    "    \n",
    "    plotted_image = ImageDraw.Draw(image)\n",
    "    # transform annotations to match yolov5 required\n",
    "    transformed_annotations = np.copy(annotations)\n",
    "    transformed_annotations[:,[1,3]] = annotations[:,[1,3]] * w\n",
    "    transformed_annotations[:,[2,4]] = annotations[:,[2,4]] * h \n",
    "    \n",
    "    transformed_annotations[:,1] = transformed_annotations[:,1] - (transformed_annotations[:,3] / 2)\n",
    "    transformed_annotations[:,2] = transformed_annotations[:,2] - (transformed_annotations[:,4] / 2)\n",
    "    transformed_annotations[:,3] = transformed_annotations[:,1] + transformed_annotations[:,3]\n",
    "    transformed_annotations[:,4] = transformed_annotations[:,2] + transformed_annotations[:,4]\n",
    "    \n",
    "    for ann in transformed_annotations:\n",
    "        obj_cls, x0, y0, x1, y1 = ann\n",
    "        plotted_image.rectangle(((x0,y0), (x1,y1)))\n",
    "        \n",
    "        plotted_image.text((x0, y0 - 10), class_id_to_name_mapping[(int(obj_cls))])\n",
    "    \n",
    "    plt.imshow(np.array(image))\n",
    "    plt.show()\n",
    "\n"
   ]
  },
  {
   "cell_type": "markdown",
   "metadata": {},
   "source": [
    "Show example file:"
   ]
  },
  {
   "cell_type": "code",
   "execution_count": null,
   "metadata": {},
   "outputs": [],
   "source": [
    "# Get any random annotation file \n",
    "annotation_file = random.choice(annotations)\n",
    "print(annotation_file)\n",
    "with open(annotation_file, \"r\") as file:\n",
    "    annotation_list = file.read().split(\"\\n\")[:-1]\n",
    "    annotation_list = [x.split(\" \") for x in annotation_list]\n",
    "    annotation_list = [[float(y) for y in x ] for x in annotation_list]\n",
    "\n",
    "# #Get the corresponding image file\n",
    "image_file = annotation_file.replace(\"annotations\", \"images\").replace(\"txt\", \"jpg\")\n",
    "assert os.path.exists(image_file)\n",
    "\n",
    "# #Load the image\n",
    "image = Image.open(image_file)\n",
    "\n",
    "#Plot the Bounding Box\n",
    "plot_bounding_box(image, annotation_list)"
   ]
  },
  {
   "cell_type": "code",
   "execution_count": null,
   "metadata": {},
   "outputs": [],
   "source": [
    "# Read images and annotations\n",
    "images = [os.path.join('images', x) for x in os.listdir('images')]\n",
    "annotations = [os.path.join('annotations', x) for x in os.listdir('annotations') if x[-3:] == \"txt\"]\n",
    "\n",
    "images.sort()\n",
    "annotations.sort()\n",
    "\n",
    "# Split the dataset into train-valid-test splits \n",
    "train_images, val_images, train_annotations, val_annotations = train_test_split(images, annotations, test_size = 0.2, random_state = 1)\n",
    "val_images, test_images, val_annotations, test_annotations = train_test_split(val_images, val_annotations, test_size = 0.5, random_state = 1)"
   ]
  },
  {
   "cell_type": "code",
   "execution_count": null,
   "metadata": {},
   "outputs": [],
   "source": [
    "os.mkdir('images/train')\n",
    "os.mkdir('images/val')\n",
    "os.mkdir('images/test')\n",
    "os.mkdir('annotations/train')\n",
    "os.mkdir('annotations/val')\n",
    "os.mkdir('annotations/test')"
   ]
  },
  {
   "cell_type": "code",
   "execution_count": 194,
   "metadata": {},
   "outputs": [],
   "source": [
    "#Utility function to move images \n",
    "def move_files_to_folder(list_of_files, destination_folder):\n",
    "    for f in list_of_files:\n",
    "        try:\n",
    "            shutil.move(f, destination_folder)\n",
    "        except:\n",
    "            print(f)\n",
    "            assert False\n",
    "\n",
    "#Move the splits into their folders\n",
    "move_files_to_folder(train_images, 'images/train')\n",
    "move_files_to_folder(val_images, 'images/val/')\n",
    "move_files_to_folder(test_images, 'images/test/')\n",
    "move_files_to_folder(train_annotations, 'annotations/train/')\n",
    "move_files_to_folder(val_annotations, 'annotations/val/')\n",
    "move_files_to_folder(test_annotations, 'annotations/test/')"
   ]
  },
  {
   "cell_type": "markdown",
   "metadata": {},
   "source": [
    "Train using YoloV5 repository (https://github.com/ultralytics/yolov5) to generate model and weights"
   ]
  },
  {
   "cell_type": "code",
   "execution_count": 6,
   "metadata": {},
   "outputs": [
    {
     "name": "stderr",
     "output_type": "stream",
     "text": [
      "\u001b[34m\u001b[1mdetect: \u001b[0mweights=['../example/yolov5/runs/train/eye_det12/weights/best.pt'], source=./images/test/, data=..\\example\\yolov5\\data\\coco128.yaml, imgsz=[512, 512], conf_thres=0.25, iou_thres=0.45, max_det=1000, device=, view_img=False, save_txt=False, save_conf=False, save_crop=False, nosave=False, classes=None, agnostic_nms=False, augment=False, visualize=False, update=False, project=./detect, name=eye_det, exist_ok=False, line_thickness=1, hide_labels=False, hide_conf=True, half=False, dnn=False\n",
      "YOLOv5  v6.1-135-g7926afc torch 1.11.0 CUDA:0 (NVIDIA GeForce RTX 3080 Ti, 12287MiB)\n",
      "\n",
      "Fusing layers... \n",
      "YOLOv5s summary: 213 layers, 7015519 parameters, 0 gradients, 15.8 GFLOPs\n",
      "image 1/69 C:\\Users\\sheff\\Desktop\\code\\yolov5project\\images\\test\\1035_right.jpg: 512x512 Done. (0.006s)\n",
      "image 2/69 C:\\Users\\sheff\\Desktop\\code\\yolov5project\\images\\test\\1094_right.jpg: 512x512 Done. (0.007s)\n",
      "image 3/69 C:\\Users\\sheff\\Desktop\\code\\yolov5project\\images\\test\\1157_right.jpg: 512x512 5 Haemorrhages, 2 Exudates, Done. (0.007s)\n",
      "image 4/69 C:\\Users\\sheff\\Desktop\\code\\yolov5project\\images\\test\\327_left.jpg: 512x512 2 Haemorrhages, Done. (0.007s)\n",
      "image 5/69 C:\\Users\\sheff\\Desktop\\code\\yolov5project\\images\\test\\3935_right.jpg: 512x512 1 Haemorrhage, Done. (0.006s)\n",
      "image 6/69 C:\\Users\\sheff\\Desktop\\code\\yolov5project\\images\\test\\3962_right.jpg: 512x512 1 Haemorrhage, Done. (0.007s)\n",
      "image 7/69 C:\\Users\\sheff\\Desktop\\code\\yolov5project\\images\\test\\3970_right.jpg: 512x512 2 Haemorrhages, Done. (0.007s)\n",
      "image 8/69 C:\\Users\\sheff\\Desktop\\code\\yolov5project\\images\\test\\3971_left.jpg: 512x512 1 Haemorrhage, Done. (0.006s)\n",
      "image 9/69 C:\\Users\\sheff\\Desktop\\code\\yolov5project\\images\\test\\3971_right.jpg: 512x512 1 Exudate, Done. (0.007s)\n",
      "image 10/69 C:\\Users\\sheff\\Desktop\\code\\yolov5project\\images\\test\\3976_right.jpg: 512x512 1 Exudate, Done. (0.016s)\n",
      "image 11/69 C:\\Users\\sheff\\Desktop\\code\\yolov5project\\images\\test\\3997_left.jpg: 512x512 7 Haemorrhages, 2 Exudates, Done. (0.010s)\n",
      "image 12/69 C:\\Users\\sheff\\Desktop\\code\\yolov5project\\images\\test\\3998_left.jpg: 512x512 1 Haemorrhage, Done. (0.007s)\n",
      "image 13/69 C:\\Users\\sheff\\Desktop\\code\\yolov5project\\images\\test\\4011_right.jpg: 512x512 2 Haemorrhages, 1 Exudate, Done. (0.006s)\n",
      "image 14/69 C:\\Users\\sheff\\Desktop\\code\\yolov5project\\images\\test\\4014_right.jpg: 512x512 5 Haemorrhages, 1 Exudate, Done. (0.007s)\n",
      "image 15/69 C:\\Users\\sheff\\Desktop\\code\\yolov5project\\images\\test\\4015_right.jpg: 512x512 6 Haemorrhages, Done. (0.007s)\n",
      "image 16/69 C:\\Users\\sheff\\Desktop\\code\\yolov5project\\images\\test\\4071_left.jpg: 512x512 2 Haemorrhages, Done. (0.006s)\n",
      "image 17/69 C:\\Users\\sheff\\Desktop\\code\\yolov5project\\images\\test\\4071_right.jpg: 512x512 1 Haemorrhage, Done. (0.007s)\n",
      "image 18/69 C:\\Users\\sheff\\Desktop\\code\\yolov5project\\images\\test\\4079_right.jpg: 512x512 1 Haemorrhage, Done. (0.006s)\n",
      "image 19/69 C:\\Users\\sheff\\Desktop\\code\\yolov5project\\images\\test\\4106_right.jpg: 512x512 Done. (0.007s)\n",
      "image 20/69 C:\\Users\\sheff\\Desktop\\code\\yolov5project\\images\\test\\4140_left.jpg: 512x512 1 Haemorrhage, 1 Exudate, Done. (0.007s)\n",
      "image 21/69 C:\\Users\\sheff\\Desktop\\code\\yolov5project\\images\\test\\4144_left.jpg: 512x512 2 Haemorrhages, 1 Exudate, Done. (0.006s)\n",
      "image 22/69 C:\\Users\\sheff\\Desktop\\code\\yolov5project\\images\\test\\4155_right.jpg: 512x512 5 Haemorrhages, Done. (0.006s)\n",
      "image 23/69 C:\\Users\\sheff\\Desktop\\code\\yolov5project\\images\\test\\4164_left.jpg: 512x512 Done. (0.007s)\n",
      "image 24/69 C:\\Users\\sheff\\Desktop\\code\\yolov5project\\images\\test\\4183_right.jpg: 512x512 4 Haemorrhages, 2 Exudates, Done. (0.007s)\n",
      "image 25/69 C:\\Users\\sheff\\Desktop\\code\\yolov5project\\images\\test\\4204_right.jpg: 512x512 2 Haemorrhages, Done. (0.007s)\n",
      "image 26/69 C:\\Users\\sheff\\Desktop\\code\\yolov5project\\images\\test\\4236_left.jpg: 512x512 1 Exudate, Done. (0.007s)\n",
      "image 27/69 C:\\Users\\sheff\\Desktop\\code\\yolov5project\\images\\test\\4244_right.jpg: 512x512 3 Haemorrhages, 1 Exudate, Done. (0.007s)\n",
      "image 28/69 C:\\Users\\sheff\\Desktop\\code\\yolov5project\\images\\test\\4246_left.jpg: 512x512 1 Exudate, Done. (0.006s)\n",
      "image 29/69 C:\\Users\\sheff\\Desktop\\code\\yolov5project\\images\\test\\4252_left.jpg: 512x512 1 Haemorrhage, Done. (0.007s)\n",
      "image 30/69 C:\\Users\\sheff\\Desktop\\code\\yolov5project\\images\\test\\4258_right.jpg: 512x512 2 Haemorrhages, Done. (0.006s)\n",
      "image 31/69 C:\\Users\\sheff\\Desktop\\code\\yolov5project\\images\\test\\4259_right.jpg: 512x512 1 Haemorrhage, Done. (0.006s)\n",
      "image 32/69 C:\\Users\\sheff\\Desktop\\code\\yolov5project\\images\\test\\4296_left.jpg: 512x512 5 Haemorrhages, Done. (0.006s)\n",
      "image 33/69 C:\\Users\\sheff\\Desktop\\code\\yolov5project\\images\\test\\4297_right.jpg: 512x512 1 Haemorrhage, Done. (0.006s)\n",
      "image 34/69 C:\\Users\\sheff\\Desktop\\code\\yolov5project\\images\\test\\4304_left.jpg: 512x512 1 Haemorrhage, Done. (0.007s)\n",
      "image 35/69 C:\\Users\\sheff\\Desktop\\code\\yolov5project\\images\\test\\4338_left.jpg: 512x512 1 Haemorrhage, Done. (0.006s)\n",
      "image 36/69 C:\\Users\\sheff\\Desktop\\code\\yolov5project\\images\\test\\4347_right.jpg: 512x512 5 Haemorrhages, 1 Exudate, Done. (0.007s)\n",
      "image 37/69 C:\\Users\\sheff\\Desktop\\code\\yolov5project\\images\\test\\4362_right.jpg: 512x512 Done. (0.007s)\n",
      "image 38/69 C:\\Users\\sheff\\Desktop\\code\\yolov5project\\images\\test\\4383_right.jpg: 512x512 1 Haemorrhage, Done. (0.007s)\n",
      "image 39/69 C:\\Users\\sheff\\Desktop\\code\\yolov5project\\images\\test\\4396_right.jpg: 512x512 Done. (0.007s)\n",
      "image 40/69 C:\\Users\\sheff\\Desktop\\code\\yolov5project\\images\\test\\4404_right.jpg: 512x512 2 Haemorrhages, Done. (0.007s)\n",
      "image 41/69 C:\\Users\\sheff\\Desktop\\code\\yolov5project\\images\\test\\4411_left.jpg: 512x512 1 Haemorrhage, Done. (0.006s)\n",
      "image 42/69 C:\\Users\\sheff\\Desktop\\code\\yolov5project\\images\\test\\4425_left.jpg: 512x512 2 Haemorrhages, 1 Exudate, Done. (0.007s)\n",
      "image 43/69 C:\\Users\\sheff\\Desktop\\code\\yolov5project\\images\\test\\4431_left.jpg: 512x512 2 Haemorrhages, Done. (0.006s)\n",
      "image 44/69 C:\\Users\\sheff\\Desktop\\code\\yolov5project\\images\\test\\4437_right.jpg: 512x512 3 Exudates, Done. (0.006s)\n",
      "image 45/69 C:\\Users\\sheff\\Desktop\\code\\yolov5project\\images\\test\\4438_left.jpg: 512x512 1 Haemorrhage, 1 Exudate, Done. (0.007s)\n",
      "image 46/69 C:\\Users\\sheff\\Desktop\\code\\yolov5project\\images\\test\\4455_left.jpg: 512x512 Done. (0.006s)\n",
      "image 47/69 C:\\Users\\sheff\\Desktop\\code\\yolov5project\\images\\test\\4462_left.jpg: 512x512 2 Haemorrhages, Done. (0.006s)\n",
      "image 48/69 C:\\Users\\sheff\\Desktop\\code\\yolov5project\\images\\test\\4469_right.jpg: 512x512 Done. (0.007s)\n",
      "image 49/69 C:\\Users\\sheff\\Desktop\\code\\yolov5project\\images\\test\\4475_right.jpg: 512x512 3 Haemorrhages, Done. (0.006s)\n",
      "image 50/69 C:\\Users\\sheff\\Desktop\\code\\yolov5project\\images\\test\\4497_right.jpg: 512x512 1 Haemorrhage, Done. (0.006s)\n",
      "image 51/69 C:\\Users\\sheff\\Desktop\\code\\yolov5project\\images\\test\\4536_left.jpg: 512x512 1 Haemorrhage, 2 Exudates, Done. (0.006s)\n",
      "image 52/69 C:\\Users\\sheff\\Desktop\\code\\yolov5project\\images\\test\\4558_right.jpg: 512x512 2 Haemorrhages, 2 Exudates, Done. (0.006s)\n",
      "image 53/69 C:\\Users\\sheff\\Desktop\\code\\yolov5project\\images\\test\\4566_left.jpg: 512x512 2 Haemorrhages, Done. (0.006s)\n",
      "image 54/69 C:\\Users\\sheff\\Desktop\\code\\yolov5project\\images\\test\\4573_left.jpg: 512x512 Done. (0.007s)\n",
      "image 55/69 C:\\Users\\sheff\\Desktop\\code\\yolov5project\\images\\test\\4585_left.jpg: 512x512 Done. (0.007s)\n",
      "image 56/69 C:\\Users\\sheff\\Desktop\\code\\yolov5project\\images\\test\\4605_right.jpg: 512x512 1 Haemorrhage, 1 Exudate, Done. (0.006s)\n",
      "image 57/69 C:\\Users\\sheff\\Desktop\\code\\yolov5project\\images\\test\\4617_left.jpg: 512x512 Done. (0.007s)\n",
      "image 58/69 C:\\Users\\sheff\\Desktop\\code\\yolov5project\\images\\test\\4619_right.jpg: 512x512 2 Haemorrhages, 1 Exudate, Done. (0.006s)\n",
      "image 59/69 C:\\Users\\sheff\\Desktop\\code\\yolov5project\\images\\test\\4624_left.jpg: 512x512 3 Haemorrhages, 3 Exudates, Done. (0.006s)\n",
      "image 60/69 C:\\Users\\sheff\\Desktop\\code\\yolov5project\\images\\test\\4631_right.jpg: 512x512 11 Haemorrhages, 2 Exudates, Done. (0.006s)\n",
      "image 61/69 C:\\Users\\sheff\\Desktop\\code\\yolov5project\\images\\test\\4635_right.jpg: 512x512 1 Haemorrhage, Done. (0.006s)\n",
      "image 62/69 C:\\Users\\sheff\\Desktop\\code\\yolov5project\\images\\test\\4640_left.jpg: 512x512 1 Haemorrhage, Done. (0.006s)\n",
      "image 63/69 C:\\Users\\sheff\\Desktop\\code\\yolov5project\\images\\test\\4664_right.jpg: 512x512 1 Haemorrhage, Done. (0.007s)\n",
      "image 64/69 C:\\Users\\sheff\\Desktop\\code\\yolov5project\\images\\test\\4682_left.jpg: 512x512 1 Haemorrhage, Done. (0.006s)\n",
      "image 65/69 C:\\Users\\sheff\\Desktop\\code\\yolov5project\\images\\test\\678_left.jpg: 512x512 4 Haemorrhages, 1 Exudate, Done. (0.007s)\n",
      "image 66/69 C:\\Users\\sheff\\Desktop\\code\\yolov5project\\images\\test\\794_left.jpg: 512x512 5 Haemorrhages, 2 Exudates, Done. (0.007s)\n",
      "image 67/69 C:\\Users\\sheff\\Desktop\\code\\yolov5project\\images\\test\\812_right.jpg: 512x512 3 Haemorrhages, 8 Exudates, Done. (0.007s)\n",
      "image 68/69 C:\\Users\\sheff\\Desktop\\code\\yolov5project\\images\\test\\87_left.jpg: 512x512 1 Haemorrhage, Done. (0.007s)\n",
      "image 69/69 C:\\Users\\sheff\\Desktop\\code\\yolov5project\\images\\test\\917_right.jpg: 512x512 8 Haemorrhages, 2 Exudates, Done. (0.007s)\n",
      "Speed: 0.2ms pre-process, 6.5ms inference, 0.9ms NMS per image at shape (1, 3, 512, 512)\n",
      "Results saved to \u001b[1mdetect\\eye_det\u001b[0m\n"
     ]
    }
   ],
   "source": [
    "!python ../example/yolov5/detect.py --source ./images/test/ --weights ../example/yolov5/runs/train/eye_det12/weights/best.pt --conf 0.25 --name eye_det --line-thickness 1 --hide-conf --imgsz 512 --project ./detect"
   ]
  },
  {
   "cell_type": "code",
   "execution_count": null,
   "metadata": {},
   "outputs": [],
   "source": []
  }
 ],
 "metadata": {
  "interpreter": {
   "hash": "eb2a7b837fe75340524cc191926eca4e46b6bf9a4c0e7c391b2be0dde5a9b326"
  },
  "kernelspec": {
   "display_name": "Python 3.9.7 ('base')",
   "language": "python",
   "name": "python3"
  },
  "language_info": {
   "codemirror_mode": {
    "name": "ipython",
    "version": 3
   },
   "file_extension": ".py",
   "mimetype": "text/x-python",
   "name": "python",
   "nbconvert_exporter": "python",
   "pygments_lexer": "ipython3",
   "version": "3.9.7"
  },
  "orig_nbformat": 4
 },
 "nbformat": 4,
 "nbformat_minor": 2
}
